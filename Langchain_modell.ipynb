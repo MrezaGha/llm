{
 "cells": [
  {
   "cell_type": "code",
   "execution_count": 517,
   "metadata": {},
   "outputs": [],
   "source": [
    "from dotenv import load_dotenv, find_dotenv\n",
    "from langchain import PromptTemplate\n",
    "from langchain.llms import AzureOpenAI\n",
    "from langchain.chat_models import ChatOpenAI\n",
    "from langchain.chains import LLMChain\n",
    "import pandas as pd\n",
    "import json \n",
    "import csv"
   ]
  },
  {
   "cell_type": "code",
   "execution_count": 518,
   "metadata": {},
   "outputs": [
    {
     "data": {
      "text/plain": [
       "True"
      ]
     },
     "execution_count": 518,
     "metadata": {},
     "output_type": "execute_result"
    }
   ],
   "source": [
    "from dotenv import load_dotenv\n",
    "import os\n",
    "\n",
    "dotenv_path = '/Users/mohammadrezaghassemzadeh/llm/.env_llm'\n",
    "load_dotenv(dotenv_path)"
   ]
  },
  {
   "cell_type": "code",
   "execution_count": 519,
   "metadata": {},
   "outputs": [],
   "source": [
    "api_base = \"https://mangoopenai.openai.azure.com/\"\n",
    "api_type = \"azure\"\n",
    "api_version = \"2023-05-15\""
   ]
  },
  {
   "cell_type": "code",
   "execution_count": 520,
   "metadata": {},
   "outputs": [],
   "source": [
    "def data_load(data_file_path):\n",
    "\n",
    "    # Liste zum Speichern der Daten\n",
    "    shop = []\n",
    "    with open(data_file_path, 'r') as datei:\n",
    "        csv_reader = csv.DictReader(datei)\n",
    "\n",
    "        # Iteriere über die Zeilen des CSV-Readers und füge jedes Dictionary zur Liste hinzu\n",
    "        for zeile in csv_reader:\n",
    "            shop.append(zeile)\n",
    "\n",
    "    # Ausgabe der gespeicherten Daten\n",
    "    print(shop)"
   ]
  },
  {
   "cell_type": "code",
   "execution_count": 521,
   "metadata": {},
   "outputs": [],
   "source": [
    "#Input an LLM \n",
    "#Input als liste oder dic angeben, damit wir die Daten an LLm weitergeben können \n",
    "\n"
   ]
  },
  {
   "cell_type": "code",
   "execution_count": 522,
   "metadata": {},
   "outputs": [],
   "source": [
    "import csv\n",
    "\n",
    "def read_csv_to_dict(file_path):\n",
    "\n",
    "    data_list = []\n",
    "    \n",
    "    with open(file_path, 'r', newline='', encoding='utf-8') as csvfile:\n",
    "        csv_reader = csv.DictReader(csvfile)\n",
    "        \n",
    "        for row in csv_reader:\n",
    "            data_list.append(row)\n",
    "    \n",
    "    return data_list"
   ]
  },
  {
   "cell_type": "code",
   "execution_count": 523,
   "metadata": {},
   "outputs": [],
   "source": [
    "def variable_to_textfile(variable, filename):\n",
    "\n",
    "  # Konvertiere die Variable in einen String.\n",
    "  variable_string = str(variable)\n",
    "\n",
    "  # Öffne die Textdatei zum Schreiben.\n",
    "  with open(filename, \"w\") as f:\n",
    "\n",
    "    # Schreibe die Variable in die Textdatei.\n",
    "    f.write(variable_string)\n",
    "\n",
    "  # Schließe die Textdatei.\n",
    "  f.close()\n",
    "\n",
    "  # Gib den Namen der Textdatei zurück.\n",
    "  return filename\n"
   ]
  },
  {
   "cell_type": "code",
   "execution_count": 524,
   "metadata": {},
   "outputs": [],
   "source": [
    "\n",
    "def text_to_csv(filename):\n",
    "    # Öffne die Textdatei zum Lesen.\n",
    "    with open(filename, \"r\") as f:\n",
    "\n",
    "        # Lies den Inhalt der Textdatei.\n",
    "        data = f.readlines()\n",
    "\n",
    "    # Konvertiere den Inhalt der Textdatei in eine Liste von Datenpunkten.\n",
    "    data = [line.strip() for line in data]\n",
    "\n",
    "    # Erstelle eine CSV-Datei zum Schreiben.\n",
    "    with open(\"output.csv\", \"w\") as f:\n",
    "\n",
    "        # Schreibe die Daten in die CSV-Datei.\n",
    "        writer = csv.writer(f)\n",
    "        writer.writerows(data)\n",
    "\n",
    "    # Schließe die CSV-Datei.\n",
    "    f.close()\n",
    "\n",
    "    # Gib den Namen der CSV-Datei zurück.\n",
    "    return \"output.csv\""
   ]
  },
  {
   "cell_type": "code",
   "execution_count": 525,
   "metadata": {},
   "outputs": [
    {
     "name": "stdout",
     "output_type": "stream",
     "text": [
      "[{'product_asin': 'B0B7HMBG1W', 'variation_asin': 'B0B7HP6L86', 'NAME': 'Kapuzenpullover Damen Warm Cardigan Kapuzenpullover Sweatshirt mit Kapuze Damen Plüschjacke Sweatjacke Oversize Wintermantel Warme Kapuzenmantel Plüschjacke Winter Warme Teddy-Fleece Fleecejacke', 'DESCRIPTION': 'Damen Regenjacke Lang 100% Wasserdicht, Atmungsaktiv Regenmantel, Travel Regen Poncho Regen Zubehör für Damen Herren Regenbekleidung Regencape für Wandern Radfahren Camping Reisen Damen Regenjacke Funktionsjacke Leichte Wasserdicht Atmungsaktiv Regenparka mit Kapuze Große Größen Sport Kapuzenpullover übergangs Jacken Langarm Mantel für Frauen', 'MAIN_IMAGE': 'https://m.media-amazon.com/images/I/71J0H7Km2EL.__AC_SY445_SX342_QL70_ML2_.jpg'}, {'product_asin': 'B0BCGB118K', 'variation_asin': 'B0BCGCT4DM', 'NAME': 'THE NORTH FACE Herren Midlayer Kapuzenpullover', 'DESCRIPTION': 'Der The North Face AO Midlayer FZ Hoodie Herren-Hoodie verfügt über ein normales Männer-Fit-Design, das die Mobilität unterstützt.\\xa0Es besteht aus synthetischen Polyesterfasern und Elastan, die für die Aufrechterhaltung eines angemessenen und trockenen Mikroklimas auf der Haut verantwortlich sind.\\xa0Darüber hinaus hat das Material eine Soft-Touch-Struktur mit optimaler Dehnbarkeit, die die Bewegung der Arme nicht blockiert.Zum erhöhten Wärmekomfort trägt unter anderem die integrierte Kapuze bei, die mit dem Stehkragen verbunden und mit einem elastischen Saum eingefasst wurde. Das North Face AO Midlayer FZ Hoodie Herren-Sweatshirt hat außerdem 2 Taschen mit Reißverschlüssen und elastische Bündchen um die Handgelenke und Hüften. Ein zusätzlicher Komfort sind die Löcher für die Daumen, die für eine bessere Passform und eine bessere Zusammenarbeit der Ärmel bei jeder Körperbewegung verantwortlich sind.', 'MAIN_IMAGE': 'https://m.media-amazon.com/images/I/911QmHZpwML.__AC_SY445_SX342_QL70_ML2_.jpg'}]\n"
     ]
    }
   ],
   "source": [
    "csv_datei_pfad = \"/Users/mohammadrezaghassemzadeh/llm/amazon_sample_products.csv\"\n",
    "information = read_csv_to_dict(csv_datei_pfad)\n",
    "print(information)"
   ]
  },
  {
   "cell_type": "code",
   "execution_count": 526,
   "metadata": {},
   "outputs": [],
   "source": [
    "#Question an LLM\n",
    "summary_template = \"\"\"\n",
    "1. Analyze the product description for the following products:\n",
    "{information}\n",
    "In doing so, the following attributes should be included:\n",
    "- brand, \n",
    "- color,\n",
    "- ID number,\n",
    "- and some information from the description\n",
    "\"\"\""
   ]
  },
  {
   "cell_type": "code",
   "execution_count": 527,
   "metadata": {},
   "outputs": [
    {
     "name": "stdout",
     "output_type": "stream",
     "text": [
      "\n",
      "Product 1\n",
      "Brand: Kapuzenpullover\n",
      "Color: N/A\n",
      "ID Number: B0B7HMBG1W\n",
      "Description: Damen Regenjacke Lang 100% Wasserdicht, Atmungsaktiv Regenmantel, Travel Regen Poncho Regen Zubehör für Damen Herren Regenbekleidung Regencape für Wandern Radfahren Camping Reisen Damen Regenjacke Funktionsjacke Leichte Wasserdicht Atmungsaktiv Regenparka mit Kapuze Große Größen Sport Kapuzenpullover übergangs Jacken Langarm Mantel für Frauen\n",
      "\n",
      "Product 2\n",
      "Brand: THE NORTH FACE\n",
      "Color: N/A\n",
      "ID Number: B0BCGB118K\n",
      "Description: Der The North Face AO Midlayer FZ Hoodie Herren-Hoodie verfügt über ein normales Männer-Fit-Design, das die Mobilität unterstützt. Es besteht aus synthetischen Polyesterfasern und\n"
     ]
    }
   ],
   "source": [
    "summary_prompt_template = PromptTemplate(\n",
    "    input_variables=[\"information\"], template=summary_template)\n",
    "\n",
    "llm = AzureOpenAI(\n",
    "    model=\"text-davinci-003\",\n",
    "    api_key=os.environ[\"API_KEY\"],\n",
    "    model_kwargs={\n",
    "        \"engine\": \"text-davinci-003\",\n",
    "        \"api_base\": \"https://mangoopenai.openai.azure.com/\",\n",
    "        \"api_type\": f\"{api_type}\",\n",
    "    },\n",
    "    api_version=api_version\n",
    ")\n",
    "\n",
    "chain = LLMChain(llm=llm, prompt=summary_prompt_template)\n",
    "\n",
    "output_product = chain.run(information=information)\n",
    "    \n",
    "print(output_product)\n"
   ]
  },
  {
   "cell_type": "code",
   "execution_count": 528,
   "metadata": {},
   "outputs": [],
   "source": [
    "path_output_llm = \"/Users/mohammadrezaghassemzadeh/llm/output_llm.csv\"\n",
    "output_llm = variable_to_textfile(output_product, \"output_llm.txt\")"
   ]
  },
  {
   "cell_type": "code",
   "execution_count": null,
   "metadata": {},
   "outputs": [],
   "source": []
  },
  {
   "cell_type": "code",
   "execution_count": null,
   "metadata": {},
   "outputs": [],
   "source": []
  }
 ],
 "metadata": {
  "kernelspec": {
   "display_name": "Python 3.9.13 ('venv': venv)",
   "language": "python",
   "name": "python3"
  },
  "language_info": {
   "codemirror_mode": {
    "name": "ipython",
    "version": 3
   },
   "file_extension": ".py",
   "mimetype": "text/x-python",
   "name": "python",
   "nbconvert_exporter": "python",
   "pygments_lexer": "ipython3",
   "version": "3.9.13"
  },
  "vscode": {
   "interpreter": {
    "hash": "af0e9b308600840be62f6b5445b64f15645cedfe8f09b67fdf031c9c26778b5a"
   }
  }
 },
 "nbformat": 4,
 "nbformat_minor": 2
}

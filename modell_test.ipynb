{
 "cells": [
  {
   "cell_type": "code",
   "execution_count": null,
   "metadata": {},
   "outputs": [],
   "source": [
    "print(\"hello GitHub\")\n",
    "\"thats a new version\"\n"
   ]
  }
 ],
 "metadata": {
  "kernelspec": {
   "display_name": "Python 3.10.8 ('venv': venv)",
   "language": "python",
   "name": "python3"
  },
  "language_info": {
   "name": "python",
   "version": "3.10.8"
  },
  "orig_nbformat": 4,
  "vscode": {
   "interpreter": {
    "hash": "85bf3a12166fbc132221b5eabd9fa93ec665ec51deae7ec89de400726767e842"
   }
  }
 },
 "nbformat": 4,
 "nbformat_minor": 2
}
